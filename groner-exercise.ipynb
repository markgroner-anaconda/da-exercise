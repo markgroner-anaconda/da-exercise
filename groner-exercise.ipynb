{
 "cells": [
  {
   "cell_type": "markdown",
   "metadata": {},
   "source": [
    "In this repository is a packages.csv file. This represents a small fraction of conda package download data from January 2018. This file has the following columns:\n",
    "\n",
    "* `date`: Calendar date when package was downloaded\n",
    "* `pkg_name`: Name of conda package\n",
    "* `pkg_version`: Version of conda package\n",
    "* `pkg_platform`: Operating system required by package (not all packages are OS-specific)\n",
    "* `pkg_python`: Version of Python required by package (not all packages require Python)\n",
    "\n",
    "Explain your results and interpretation in the notebook as if you were communicating to a technical colleague."
   ]
  },
  {
   "cell_type": "code",
   "execution_count": 1,
   "metadata": {},
   "outputs": [],
   "source": [
    "import pandas as pd\n",
    "import os\n",
    "import matplotlib.pyplot as plt\n",
    "from datetime import datetime\n",
    "plt.style.use('fivethirtyeight')"
   ]
  },
  {
   "cell_type": "code",
   "execution_count": 2,
   "metadata": {},
   "outputs": [
    {
     "data": {
      "text/html": [
       "<div>\n",
       "<style>\n",
       "    .dataframe thead tr:only-child th {\n",
       "        text-align: right;\n",
       "    }\n",
       "\n",
       "    .dataframe thead th {\n",
       "        text-align: left;\n",
       "    }\n",
       "\n",
       "    .dataframe tbody tr th {\n",
       "        vertical-align: top;\n",
       "    }\n",
       "</style>\n",
       "<table border=\"1\" class=\"dataframe\">\n",
       "  <thead>\n",
       "    <tr style=\"text-align: right;\">\n",
       "      <th></th>\n",
       "      <th>date</th>\n",
       "      <th>pkg_name</th>\n",
       "      <th>pkg_version</th>\n",
       "      <th>pkg_platform</th>\n",
       "      <th>pkg_python</th>\n",
       "    </tr>\n",
       "  </thead>\n",
       "  <tbody>\n",
       "    <tr>\n",
       "      <th>0</th>\n",
       "      <td>2018-01-01</td>\n",
       "      <td>hdf5</td>\n",
       "      <td>1.8.17</td>\n",
       "      <td>linux</td>\n",
       "      <td>NaN</td>\n",
       "    </tr>\n",
       "    <tr>\n",
       "      <th>1</th>\n",
       "      <td>2018-01-01</td>\n",
       "      <td>pytz</td>\n",
       "      <td>2017.3</td>\n",
       "      <td>linux</td>\n",
       "      <td>35.0</td>\n",
       "    </tr>\n",
       "    <tr>\n",
       "      <th>2</th>\n",
       "      <td>2018-01-01</td>\n",
       "      <td>xz</td>\n",
       "      <td>5.2.3</td>\n",
       "      <td>linux</td>\n",
       "      <td>NaN</td>\n",
       "    </tr>\n",
       "    <tr>\n",
       "      <th>3</th>\n",
       "      <td>2018-01-01</td>\n",
       "      <td>boto3</td>\n",
       "      <td>1.3.1</td>\n",
       "      <td>linux</td>\n",
       "      <td>27.0</td>\n",
       "    </tr>\n",
       "    <tr>\n",
       "      <th>4</th>\n",
       "      <td>2018-01-01</td>\n",
       "      <td>python-dateutil</td>\n",
       "      <td>2.6.1</td>\n",
       "      <td>linux</td>\n",
       "      <td>35.0</td>\n",
       "    </tr>\n",
       "  </tbody>\n",
       "</table>\n",
       "</div>"
      ],
      "text/plain": [
       "         date         pkg_name pkg_version pkg_platform  pkg_python\n",
       "0  2018-01-01             hdf5      1.8.17        linux         NaN\n",
       "1  2018-01-01             pytz      2017.3        linux        35.0\n",
       "2  2018-01-01               xz       5.2.3        linux         NaN\n",
       "3  2018-01-01            boto3       1.3.1        linux        27.0\n",
       "4  2018-01-01  python-dateutil       2.6.1        linux        35.0"
      ]
     },
     "execution_count": 2,
     "metadata": {},
     "output_type": "execute_result"
    }
   ],
   "source": [
    "packages_df = pd.read_csv('packages.csv')\n",
    "packages_df.head()"
   ]
  },
  {
   "cell_type": "markdown",
   "metadata": {},
   "source": [
    "## How many packages are downloaded per day? (show in a plot)\n",
    "The average number of downloads per day 70,193.\n",
    "### Looking at this plot, is there periodic behavior?\n",
    "The graph below shows there was a spike in downloads at the beginning of the month.  I would like to see data on other months.  I am curious as to whether this is a monthly spike or yearly spike.  My first hypothesis is that this is a yearly spike that occurs because when everyone returns to work after the holidays.\n",
    "\n",
    "The second graph shows that Mondays, Wednesdays, and Fridays are more popular days to download than Friday and Thursday.  Download traffic is at its lowest during the weekend."
   ]
  },
  {
   "cell_type": "code",
   "execution_count": 3,
   "metadata": {
    "collapsed": true
   },
   "outputs": [],
   "source": [
    "## Function to groupby one column in the packages.csv and count total downloads\n",
    "def groupby_total_downloads(df, column_to_groupby, column_to_count='pkg_version', order_by_downloads=True):\n",
    "    pkg_groupby = df.groupby([column_to_groupby])\n",
    "    pkg_groupby_df = pkg_groupby.count()[[column_to_count]]\n",
    "    pkg_groupby_df.columns =['total_downloads']\n",
    "    if order_by_downloads:\n",
    "        pkg_groupby_df.sort_values('total_downloads', ascending=False, inplace=True)\n",
    "    return pkg_groupby_df"
   ]
  },
  {
   "cell_type": "code",
   "execution_count": 4,
   "metadata": {},
   "outputs": [
    {
     "data": {
      "text/html": [
       "<div>\n",
       "<style>\n",
       "    .dataframe thead tr:only-child th {\n",
       "        text-align: right;\n",
       "    }\n",
       "\n",
       "    .dataframe thead th {\n",
       "        text-align: left;\n",
       "    }\n",
       "\n",
       "    .dataframe tbody tr th {\n",
       "        vertical-align: top;\n",
       "    }\n",
       "</style>\n",
       "<table border=\"1\" class=\"dataframe\">\n",
       "  <thead>\n",
       "    <tr style=\"text-align: right;\">\n",
       "      <th></th>\n",
       "      <th>date</th>\n",
       "      <th>total_downloads</th>\n",
       "    </tr>\n",
       "  </thead>\n",
       "  <tbody>\n",
       "    <tr>\n",
       "      <th>0</th>\n",
       "      <td>2018-01-01</td>\n",
       "      <td>120528</td>\n",
       "    </tr>\n",
       "    <tr>\n",
       "      <th>1</th>\n",
       "      <td>2018-01-02</td>\n",
       "      <td>127267</td>\n",
       "    </tr>\n",
       "    <tr>\n",
       "      <th>2</th>\n",
       "      <td>2018-01-03</td>\n",
       "      <td>108229</td>\n",
       "    </tr>\n",
       "    <tr>\n",
       "      <th>3</th>\n",
       "      <td>2018-01-04</td>\n",
       "      <td>79610</td>\n",
       "    </tr>\n",
       "    <tr>\n",
       "      <th>4</th>\n",
       "      <td>2018-01-05</td>\n",
       "      <td>70896</td>\n",
       "    </tr>\n",
       "  </tbody>\n",
       "</table>\n",
       "</div>"
      ],
      "text/plain": [
       "         date  total_downloads\n",
       "0  2018-01-01           120528\n",
       "1  2018-01-02           127267\n",
       "2  2018-01-03           108229\n",
       "3  2018-01-04            79610\n",
       "4  2018-01-05            70896"
      ]
     },
     "execution_count": 4,
     "metadata": {},
     "output_type": "execute_result"
    }
   ],
   "source": [
    "date_df = groupby_total_downloads(packages_df, 'date', order_by_downloads=False)\n",
    "date_df.reset_index(inplace=True)\n",
    "date_df.head()"
   ]
  },
  {
   "cell_type": "code",
   "execution_count": 5,
   "metadata": {},
   "outputs": [
    {
     "data": {
      "text/plain": [
       "70193.41935483871"
      ]
     },
     "execution_count": 5,
     "metadata": {},
     "output_type": "execute_result"
    }
   ],
   "source": [
    "average_daily_downloads = date_df['total_downloads'].mean()\n",
    "average_daily_downloads"
   ]
  },
  {
   "cell_type": "code",
   "execution_count": 6,
   "metadata": {},
   "outputs": [
    {
     "data": {
      "image/png": "[encoded data removed]",
      "text/plain": [
       "<matplotlib.figure.Figure at 0x1a8e9b8d2e8>"
      ]
     },
     "metadata": {},
     "output_type": "display_data"
    }
   ],
   "source": [
    "tick_loc = range(len(date_df['total_downloads']))\n",
    "plt.figure(figsize=(10,5))\n",
    "plt.bar(tick_loc, date_df['total_downloads'],\n",
    "        width=0.2,align='center')\n",
    "plt.xticks(tick_loc, date_df['date'], rotation=90)\n",
    "plt.title('Downloads by Date')\n",
    "plt.xlabel('Date')\n",
    "plt.ylabel('Total Downloads')\n",
    "plt.axhline(y=0, color='grey')\n",
    "plt.axhline(y=average_daily_downloads, color='red', linewidth =1)  ## horizontal line that shows average downloads per day\n",
    "plt.show()"
   ]
  },
  {
   "cell_type": "code",
   "execution_count": 7,
   "metadata": {},
   "outputs": [
    {
     "data": {
      "text/html": [
       "<div>\n",
       "<style>\n",
       "    .dataframe thead tr:only-child th {\n",
       "        text-align: right;\n",
       "    }\n",
       "\n",
       "    .dataframe thead th {\n",
       "        text-align: left;\n",
       "    }\n",
       "\n",
       "    .dataframe tbody tr th {\n",
       "        vertical-align: top;\n",
       "    }\n",
       "</style>\n",
       "<table border=\"1\" class=\"dataframe\">\n",
       "  <thead>\n",
       "    <tr style=\"text-align: right;\">\n",
       "      <th></th>\n",
       "      <th>date</th>\n",
       "      <th>total_downloads</th>\n",
       "      <th>weekday</th>\n",
       "    </tr>\n",
       "  </thead>\n",
       "  <tbody>\n",
       "    <tr>\n",
       "      <th>0</th>\n",
       "      <td>2018-01-01</td>\n",
       "      <td>120528</td>\n",
       "      <td>Monday</td>\n",
       "    </tr>\n",
       "    <tr>\n",
       "      <th>1</th>\n",
       "      <td>2018-01-02</td>\n",
       "      <td>127267</td>\n",
       "      <td>Tuesday</td>\n",
       "    </tr>\n",
       "    <tr>\n",
       "      <th>2</th>\n",
       "      <td>2018-01-03</td>\n",
       "      <td>108229</td>\n",
       "      <td>Wednesday</td>\n",
       "    </tr>\n",
       "    <tr>\n",
       "      <th>3</th>\n",
       "      <td>2018-01-04</td>\n",
       "      <td>79610</td>\n",
       "      <td>Thursday</td>\n",
       "    </tr>\n",
       "    <tr>\n",
       "      <th>4</th>\n",
       "      <td>2018-01-05</td>\n",
       "      <td>70896</td>\n",
       "      <td>Friday</td>\n",
       "    </tr>\n",
       "  </tbody>\n",
       "</table>\n",
       "</div>"
      ],
      "text/plain": [
       "         date  total_downloads    weekday\n",
       "0  2018-01-01           120528     Monday\n",
       "1  2018-01-02           127267    Tuesday\n",
       "2  2018-01-03           108229  Wednesday\n",
       "3  2018-01-04            79610   Thursday\n",
       "4  2018-01-05            70896     Friday"
      ]
     },
     "execution_count": 7,
     "metadata": {},
     "output_type": "execute_result"
    }
   ],
   "source": [
    "## Creates new day of the week column\n",
    "## Ran this here instead of on the main dataframe so that it would be run over 31 records instead of all 2,175,996 rows \n",
    "date_df['weekday'] = ''\n",
    "for index, row in date_df.iterrows():\n",
    "    date_string = date_df.loc[index, 'date']\n",
    "    date_object = datetime.strptime(date_string, '%Y-%m-%d')\n",
    "    date_df.loc[index, 'weekday'] = date_object.strftime('%A')\n",
    "date_df.head()"
   ]
  },
  {
   "cell_type": "code",
   "execution_count": 8,
   "metadata": {},
   "outputs": [
    {
     "name": "stdout",
     "output_type": "stream",
     "text": [
      "0\n"
     ]
    },
    {
     "data": {
      "text/html": [
       "<div>\n",
       "<style>\n",
       "    .dataframe thead tr:only-child th {\n",
       "        text-align: right;\n",
       "    }\n",
       "\n",
       "    .dataframe thead th {\n",
       "        text-align: left;\n",
       "    }\n",
       "\n",
       "    .dataframe tbody tr th {\n",
       "        vertical-align: top;\n",
       "    }\n",
       "</style>\n",
       "<table border=\"1\" class=\"dataframe\">\n",
       "  <thead>\n",
       "    <tr style=\"text-align: right;\">\n",
       "      <th></th>\n",
       "      <th>total_downloads</th>\n",
       "    </tr>\n",
       "    <tr>\n",
       "      <th>weekday</th>\n",
       "      <th></th>\n",
       "    </tr>\n",
       "  </thead>\n",
       "  <tbody>\n",
       "    <tr>\n",
       "      <th>Tuesday</th>\n",
       "      <td>433523</td>\n",
       "    </tr>\n",
       "    <tr>\n",
       "      <th>Monday</th>\n",
       "      <td>415900</td>\n",
       "    </tr>\n",
       "    <tr>\n",
       "      <th>Wednesday</th>\n",
       "      <td>403536</td>\n",
       "    </tr>\n",
       "    <tr>\n",
       "      <th>Thursday</th>\n",
       "      <td>296324</td>\n",
       "    </tr>\n",
       "    <tr>\n",
       "      <th>Friday</th>\n",
       "      <td>271200</td>\n",
       "    </tr>\n",
       "    <tr>\n",
       "      <th>Saturday</th>\n",
       "      <td>179667</td>\n",
       "    </tr>\n",
       "    <tr>\n",
       "      <th>Sunday</th>\n",
       "      <td>175846</td>\n",
       "    </tr>\n",
       "  </tbody>\n",
       "</table>\n",
       "</div>"
      ],
      "text/plain": [
       "           total_downloads\n",
       "weekday                   \n",
       "Tuesday             433523\n",
       "Monday              415900\n",
       "Wednesday           403536\n",
       "Thursday            296324\n",
       "Friday              271200\n",
       "Saturday            179667\n",
       "Sunday              175846"
      ]
     },
     "execution_count": 8,
     "metadata": {},
     "output_type": "execute_result"
    }
   ],
   "source": [
    "weekday_groupby = date_df.groupby(['weekday'])\n",
    "weekday_df = weekday_groupby.sum()[['total_downloads']]\n",
    "print(weekday_df['total_downloads'].sum() - len(packages_df)) ## validating all records are accounted for\n",
    "weekday_df.sort_values('total_downloads', ascending=False, inplace=True)\n",
    "weekday_df"
   ]
  },
  {
   "cell_type": "code",
   "execution_count": 9,
   "metadata": {},
   "outputs": [
    {
     "data": {
      "image/png": "[encoded data removed]",
      "text/plain": [
       "<matplotlib.figure.Figure at 0x1a8ea017048>"
      ]
     },
     "metadata": {},
     "output_type": "display_data"
    }
   ],
   "source": [
    "tick_loc = range(len(weekday_df['total_downloads']))\n",
    "plt.figure(figsize=(10,5))\n",
    "plt.bar(tick_loc, weekday_df['total_downloads'],\n",
    "        width=0.2,align='center')\n",
    "plt.xticks(tick_loc, weekday_df.index, rotation=90)\n",
    "plt.title('Downloads by Weekday')\n",
    "plt.xlabel('Weekday')\n",
    "plt.ylabel('Total Downloads')\n",
    "plt.axhline(y=0, color='grey')\n",
    "plt.show()"
   ]
  },
  {
   "cell_type": "markdown",
   "metadata": {},
   "source": [
    "## What are the top 5 most popular packages?\n",
    "The five most popular packages are:\n",
    " 1. conda\n",
    " 2. python\n",
    " 3. certifi\n",
    " 4. numpy\n",
    " 5. setuptools"
   ]
  },
  {
   "cell_type": "code",
   "execution_count": 10,
   "metadata": {},
   "outputs": [
    {
     "data": {
      "text/html": [
       "<div>\n",
       "<style>\n",
       "    .dataframe thead tr:only-child th {\n",
       "        text-align: right;\n",
       "    }\n",
       "\n",
       "    .dataframe thead th {\n",
       "        text-align: left;\n",
       "    }\n",
       "\n",
       "    .dataframe tbody tr th {\n",
       "        vertical-align: top;\n",
       "    }\n",
       "</style>\n",
       "<table border=\"1\" class=\"dataframe\">\n",
       "  <thead>\n",
       "    <tr style=\"text-align: right;\">\n",
       "      <th></th>\n",
       "      <th>total_downloads</th>\n",
       "    </tr>\n",
       "    <tr>\n",
       "      <th>pkg_name</th>\n",
       "      <th></th>\n",
       "    </tr>\n",
       "  </thead>\n",
       "  <tbody>\n",
       "    <tr>\n",
       "      <th>conda</th>\n",
       "      <td>42009</td>\n",
       "    </tr>\n",
       "    <tr>\n",
       "      <th>python</th>\n",
       "      <td>35327</td>\n",
       "    </tr>\n",
       "    <tr>\n",
       "      <th>certifi</th>\n",
       "      <td>33688</td>\n",
       "    </tr>\n",
       "    <tr>\n",
       "      <th>numpy</th>\n",
       "      <td>31913</td>\n",
       "    </tr>\n",
       "    <tr>\n",
       "      <th>setuptools</th>\n",
       "      <td>31311</td>\n",
       "    </tr>\n",
       "  </tbody>\n",
       "</table>\n",
       "</div>"
      ],
      "text/plain": [
       "            total_downloads\n",
       "pkg_name                   \n",
       "conda                 42009\n",
       "python                35327\n",
       "certifi               33688\n",
       "numpy                 31913\n",
       "setuptools            31311"
      ]
     },
     "execution_count": 10,
     "metadata": {},
     "output_type": "execute_result"
    }
   ],
   "source": [
    "pkg_name_df = groupby_total_downloads(packages_df, 'pkg_name')\n",
    "pkg_name_df.head(5)"
   ]
  },
  {
   "cell_type": "markdown",
   "metadata": {},
   "source": [
    "## How popular is each operating system?\n",
    "Linux is by far the most popular platform it has over twice as many downloads as windows and osx combined.  The bar chart below illustrates how much more popular it is than windows and OS X."
   ]
  },
  {
   "cell_type": "code",
   "execution_count": 11,
   "metadata": {},
   "outputs": [
    {
     "data": {
      "text/html": [
       "<div>\n",
       "<style>\n",
       "    .dataframe thead tr:only-child th {\n",
       "        text-align: right;\n",
       "    }\n",
       "\n",
       "    .dataframe thead th {\n",
       "        text-align: left;\n",
       "    }\n",
       "\n",
       "    .dataframe tbody tr th {\n",
       "        vertical-align: top;\n",
       "    }\n",
       "</style>\n",
       "<table border=\"1\" class=\"dataframe\">\n",
       "  <thead>\n",
       "    <tr style=\"text-align: right;\">\n",
       "      <th></th>\n",
       "      <th>total_downloads</th>\n",
       "    </tr>\n",
       "    <tr>\n",
       "      <th>pkg_platform</th>\n",
       "      <th></th>\n",
       "    </tr>\n",
       "  </thead>\n",
       "  <tbody>\n",
       "    <tr>\n",
       "      <th>linux</th>\n",
       "      <td>1448969</td>\n",
       "    </tr>\n",
       "    <tr>\n",
       "      <th>win</th>\n",
       "      <td>511428</td>\n",
       "    </tr>\n",
       "    <tr>\n",
       "      <th>osx</th>\n",
       "      <td>211643</td>\n",
       "    </tr>\n",
       "  </tbody>\n",
       "</table>\n",
       "</div>"
      ],
      "text/plain": [
       "              total_downloads\n",
       "pkg_platform                 \n",
       "linux                 1448969\n",
       "win                    511428\n",
       "osx                    211643"
      ]
     },
     "execution_count": 11,
     "metadata": {},
     "output_type": "execute_result"
    }
   ],
   "source": [
    "pkg_platform_df = groupby_total_downloads(packages_df, 'pkg_platform')\n",
    "pkg_platform_df"
   ]
  },
  {
   "cell_type": "code",
   "execution_count": 12,
   "metadata": {},
   "outputs": [
    {
     "data": {
      "text/plain": [
       "2827"
      ]
     },
     "execution_count": 12,
     "metadata": {},
     "output_type": "execute_result"
    }
   ],
   "source": [
    "total_linux_downloads = pkg_platform_df.loc['linux', 'total_downloads']\n",
    "total_osx_downloads = pkg_platform_df.loc['osx', 'total_downloads']\n",
    "total_win_downloads = pkg_platform_df.loc['win', 'total_downloads']\n",
    "total_linux_downloads - (total_osx_downloads + total_win_downloads) * 2"
   ]
  },
  {
   "cell_type": "code",
   "execution_count": 13,
   "metadata": {},
   "outputs": [
    {
     "data": {
      "image/png": "[encoded data removed]",
      "text/plain": [
       "<matplotlib.figure.Figure at 0x1a8ea0575f8>"
      ]
     },
     "metadata": {},
     "output_type": "display_data"
    }
   ],
   "source": [
    "tick_loc = range(len(pkg_platform_df['total_downloads']))\n",
    "plt.figure(figsize=(10,5))\n",
    "plt.bar(tick_loc, pkg_platform_df['total_downloads'],\n",
    "        width=0.2,align='center')\n",
    "plt.xticks(tick_loc, pkg_platform_df.index, rotation=90)\n",
    "plt.title('Downloads by Operating System')\n",
    "plt.xlabel('Operating System')\n",
    "plt.ylabel('Total Downloads')\n",
    "plt.axhline(y=0, color='grey')\n",
    "plt.show()"
   ]
  },
  {
   "cell_type": "markdown",
   "metadata": {},
   "source": [
    "## Should we stop supporting Python 3.5 in future Anaconda releases?\n",
    "This is a difficult question to answer with only the data provided.  Initially, I would so no, you should not stop supporting Python 3.5 in future Anaconda releases at this time because 43% of packages with requirements have it has the basic requirement.\n",
    "\n",
    "As with any question, I would like to know the opportunity cost of continuing to support it.  What other projects could be delievered if you weren't spending time supporting 3.5?\n",
    "\n",
    "Since only 2% of downloads support 3.4 or 3.3, I believe there is potential to move away from supporting 3.5, but the timing must be right.  Any data that shows what users have installed would help with this decision."
   ]
  },
  {
   "cell_type": "code",
   "execution_count": 14,
   "metadata": {},
   "outputs": [
    {
     "data": {
      "text/html": [
       "<div>\n",
       "<style>\n",
       "    .dataframe thead tr:only-child th {\n",
       "        text-align: right;\n",
       "    }\n",
       "\n",
       "    .dataframe thead th {\n",
       "        text-align: left;\n",
       "    }\n",
       "\n",
       "    .dataframe tbody tr th {\n",
       "        vertical-align: top;\n",
       "    }\n",
       "</style>\n",
       "<table border=\"1\" class=\"dataframe\">\n",
       "  <thead>\n",
       "    <tr style=\"text-align: right;\">\n",
       "      <th></th>\n",
       "      <th>total_downloads</th>\n",
       "    </tr>\n",
       "    <tr>\n",
       "      <th>pkg_python</th>\n",
       "      <th></th>\n",
       "    </tr>\n",
       "  </thead>\n",
       "  <tbody>\n",
       "    <tr>\n",
       "      <th>35.0</th>\n",
       "      <td>608411</td>\n",
       "    </tr>\n",
       "    <tr>\n",
       "      <th>36.0</th>\n",
       "      <td>414405</td>\n",
       "    </tr>\n",
       "    <tr>\n",
       "      <th>27.0</th>\n",
       "      <td>355918</td>\n",
       "    </tr>\n",
       "    <tr>\n",
       "      <th>34.0</th>\n",
       "      <td>34329</td>\n",
       "    </tr>\n",
       "    <tr>\n",
       "      <th>33.0</th>\n",
       "      <td>3831</td>\n",
       "    </tr>\n",
       "    <tr>\n",
       "      <th>26.0</th>\n",
       "      <td>3331</td>\n",
       "    </tr>\n",
       "  </tbody>\n",
       "</table>\n",
       "</div>"
      ],
      "text/plain": [
       "            total_downloads\n",
       "pkg_python                 \n",
       "35.0                 608411\n",
       "36.0                 414405\n",
       "27.0                 355918\n",
       "34.0                  34329\n",
       "33.0                   3831\n",
       "26.0                   3331"
      ]
     },
     "execution_count": 14,
     "metadata": {},
     "output_type": "execute_result"
    }
   ],
   "source": [
    "pkg_python_df = groupby_total_downloads(packages_df, 'pkg_python')\n",
    "pkg_python_df"
   ]
  },
  {
   "cell_type": "code",
   "execution_count": 15,
   "metadata": {},
   "outputs": [
    {
     "data": {
      "text/plain": [
       "6"
      ]
     },
     "execution_count": 15,
     "metadata": {},
     "output_type": "execute_result"
    }
   ],
   "source": [
    "total_versions = len(pkg_python_df)\n",
    "total_versions"
   ]
  },
  {
   "cell_type": "code",
   "execution_count": 16,
   "metadata": {},
   "outputs": [
    {
     "data": {
      "text/plain": [
       "0.42839057191642171"
      ]
     },
     "execution_count": 16,
     "metadata": {},
     "output_type": "execute_result"
    }
   ],
   "source": [
    "total_downloads_requiring_35 = pkg_python_df.loc[35.0, 'total_downloads']\n",
    "total_downloads_w_requirements = pkg_python_df['total_downloads'].sum()\n",
    "total_downloads_requiring_35 / total_downloads_w_requirements"
   ]
  },
  {
   "cell_type": "code",
   "execution_count": 17,
   "metadata": {},
   "outputs": [
    {
     "data": {
      "text/plain": [
       "0.024171522117974263"
      ]
     },
     "execution_count": 17,
     "metadata": {},
     "output_type": "execute_result"
    }
   ],
   "source": [
    "total_downloads_requiring_34 = pkg_python_df.loc[34.0, 'total_downloads']\n",
    "total_downloads_requiring_34 / total_downloads_w_requirements"
   ]
  },
  {
   "cell_type": "code",
   "execution_count": null,
   "metadata": {
    "collapsed": true
   },
   "outputs": [],
   "source": []
  }
 ],
 "metadata": {
  "kernelspec": {
   "display_name": "Python 3",
   "language": "python",
   "name": "python3"
  },
  "language_info": {
   "codemirror_mode": {
    "name": "ipython",
    "version": 3
   },
   "file_extension": ".py",
   "mimetype": "text/x-python",
   "name": "python",
   "nbconvert_exporter": "python",
   "pygments_lexer": "ipython3",
   "version": "3.6.2"
  }
 },
 "nbformat": 4,
 "nbformat_minor": 2
}
